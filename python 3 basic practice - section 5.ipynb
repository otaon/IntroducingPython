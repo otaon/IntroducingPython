{
 "cells": [
  {
   "cell_type": "markdown",
   "metadata": {},
   "source": [
    "# 5. モジュール、パッケージ、プログラム"
   ]
  },
  {
   "cell_type": "markdown",
   "metadata": {},
   "source": [
    "## 5.1 スタンドアローンプログラム"
   ]
  },
  {
   "cell_type": "markdown",
   "metadata": {},
   "source": [
    "インタプリタを使って対話的にプログラムを実行していたが、スタンドアローンで実行したほうが便利なこともある。  \n",
    "jupyterではファイルを作成するのが面倒くさいので、やり方だけ記載する。"
   ]
  },
  {
   "cell_type": "markdown",
   "metadata": {},
   "source": [
    "[ファイル名:test1.py]\n",
    "```python\n",
    "print(\"This standalone program works!\")\n",
    "```\n",
    "=> This standalone program workd!"
   ]
  },
  {
   "cell_type": "markdown",
   "metadata": {},
   "source": [
    "これ以降は、notebook上でプログラムを記載する。"
   ]
  },
  {
   "cell_type": "markdown",
   "metadata": {},
   "source": [
    "## 5.2 コマンドライン引数"
   ]
  },
  {
   "cell_type": "markdown",
   "metadata": {},
   "source": [
    "コンピュータ上で次の2行を含む`test2.py`というファイルを作成する。"
   ]
  },
  {
   "cell_type": "code",
   "execution_count": null,
   "metadata": {
    "collapsed": false
   },
   "outputs": [],
   "source": [
    "import sys\n",
    "print('Program arguments:', sys.argv)"
   ]
  },
  {
   "cell_type": "markdown",
   "metadata": {},
   "source": [
    "## 5.2 モジュールとimport文"
   ]
  },
  {
   "cell_type": "markdown",
   "metadata": {},
   "source": [
    "モジュールは、Pythonコードを纏めたファイルのことである。  \n",
    "`import`文を使うことで、他のモジュールのコードを参照する。これで、インポートしたモジュールのコード、変数をプログラム内で使えるようになる。"
   ]
  },
  {
   "cell_type": "markdown",
   "metadata": {},
   "source": [
    "### 5.3.1 モジュールのインポート"
   ]
  },
  {
   "cell_type": "markdown",
   "metadata": {},
   "source": [
    "import文のもっとも単純な使い方は、`import <module>`という書式である。"
   ]
  },
  {
   "cell_type": "markdown",
   "metadata": {},
   "source": [
    "ここで、気象台をシミュレートして天気予報を表示してみる。  \n",
    "- メインプログラムが予報を表示する。\n",
    "- 別のモジュールは関数を1つ持つ。\n",
    "    - この関数は、予報で使われている天気についての説明を返す。\n",
    "\n",
    "メインプログラムは下記のようになる。"
   ]
  },
  {
   "cell_type": "markdown",
   "metadata": {
    "collapsed": true
   },
   "source": [
    "[ファイル名:weatherman.py]\n",
    "```python\n",
    "import report\n",
    "\n",
    "description = report.get_description()\n",
    "print(\"Today's weather\", description)\n",
    "```"
   ]
  },
  {
   "cell_type": "markdown",
   "metadata": {},
   "source": [
    "そして、モジュールは次のとおり。"
   ]
  },
  {
   "cell_type": "markdown",
   "metadata": {},
   "source": [
    "[ファイル名:report.py]\n",
    "```python\n",
    "def get_description():  # 下記docstringを参照\n",
    "    \"\"\"プロと同じようにランダムな天気を返す。\"\"\"\n",
    "    from random import choice\n",
    "    possibilities = ['rain', 'snow', 'sleet', 'fog', 'sun', 'who knows']\n",
    "    return choice(possibilities)\n",
    "```"
   ]
  },
  {
   "cell_type": "markdown",
   "metadata": {},
   "source": [
    "ファイルのimportの関係性は下記の図のようになる。  \n",
    "[weatherman.py]  \n",
    "↑ import  \n",
    "[report.py]"
   ]
  },
  {
   "cell_type": "markdown",
   "metadata": {},
   "source": [
    "これら2つのファイルを同じディレクトリに置き、Pythonにweatherman.pyをメインプログラムとして実行せよと支持すると、  \n",
    "weatherman.pyはreportモジュールにアクセスし、そのget_description()関数を実行する。  \n",
    "このバージョンのget_description()は、文字列リストからランダムな結果を返すように作られているので、  \n",
    "メインプログラムはその結果を手に入れて表示する。"
   ]
  },
  {
   "cell_type": "markdown",
   "metadata": {},
   "source": [
    "```bash\n",
    "$ python weatherman.py\n",
    "\"Today's weather: who knows\"\n",
    "$ python weatherman.py\n",
    "\"Today's weather: sun\"\n",
    "$ python weatherman.py\n",
    "\"Today's weather: sleet\"\n",
    "```"
   ]
  },
  {
   "cell_type": "markdown",
   "metadata": {},
   "source": [
    "このプログラムでは、2つの別々の場所でインポートを使っている。\n",
    "- メインプログラムのweatherman.pyは、reportモジュールをインポートしている。\n",
    "- モジュールファイルreport.pyのget_description()関数は、Python標準のrandomモジュールからchoice関数をインポートしている。\n",
    "\n",
    "ふたつのインポートはインポートの方法も異なる。\n",
    "- weatherman.pyはimport reportを呼び出し、次にreport.get_description()を実行している。\n",
    "- report.pyのget_description()関数は、from random import choiceを呼び出してから、choice(possibilities)を呼び出している。"
   ]
  },
  {
   "cell_type": "markdown",
   "metadata": {},
   "source": [
    "1. 一つ目の方法は、reportモジュール全体をインポートしているが、get_description()のプレフィックスとしてreportを使わなければならない。  \n",
    "このimport文を通り過ぎると、メインプログラムはreport.というプレフィックスを付ける限り、  \n",
    "report.pyに含まれる全ての部分にアクセスできるようになる。  \n",
    "モジュールの名前でモジュールの内容を修飾することにより、名雨の衝突が避けられる。  \n",
    "どこかほかのモジュールにget_description()関数があっても、間違ってそれを呼び出すことはない。  \n",
    "\n",
    "2. 二つ目の方法は、関数の中でimportおり、他にchoiceという名前のものは無いことが分かっているため、  \n",
    "randomモジュールから直接choice()関数をインポートしている。  \n",
    "そのため、get_description()関数は、次のようにランダムな結果を返すコードとして書くことも出来る。"
   ]
  },
  {
   "cell_type": "markdown",
   "metadata": {},
   "source": [
    "```python\n",
    "def get_description():\n",
    "    import random\n",
    "    possibilities = ['rain', 'snow', 'sleet', 'fog', 'sun', 'who knows']\n",
    "    return random.choice(possibilities)\n",
    "```"
   ]
  },
  {
   "cell_type": "markdown",
   "metadata": {},
   "source": [
    "importの参照方法は、自分のコーディングスタイルに合わせて統一すべき。  \n",
    "モジュール修飾名(random.choice)の方が安全だが、タイプ数が増える。  \n",
    "\n",
    "今までのget_description()サンプルでは、**何を**インポートするかについて異なる例を示した。  \n",
    "下記では、**どこで**インポートするかについて示す。  \n",
    "importを呼び出していたのは、どの例でも関数の中だった。randomは関数の外からでもインポートできる。"
   ]
  },
  {
   "cell_type": "markdown",
   "metadata": {},
   "source": [
    "```python\n",
    "import random\n",
    "\n",
    "def get_description():\n",
    "    possibilities = ['rain', 'snow', 'sleet', 'fog', 'sun', 'who knows']\n",
    "    return random.choice(possibilities)\n",
    "    \n",
    "get_description()\n",
    "# => 'Who knows'\n",
    "get_description()\n",
    "# => 'rain'\n",
    "```"
   ]
  },
  {
   "cell_type": "markdown",
   "metadata": {},
   "source": [
    "インポートされるコードが複数の箇所で使われている場合には、関数の外でインポートした方が良い。  \n",
    "使われる場所が限定されている場合には、使う関数の中から呼び出す。  \n",
    "コードの依存関係を全てはっきりと分かるようにするために、ファイルの冒頭で全てのインポートをするという人もいる。どちらでも機能する。"
   ]
  },
  {
   "cell_type": "markdown",
   "metadata": {},
   "source": [
    "### 5.3.2 別名によるモジュールのインポート"
   ]
  },
  {
   "cell_type": "markdown",
   "metadata": {},
   "source": [
    "先程はメインプログラムのweatherman.pyでimport reportを呼び出した。  \n",
    "しかし、同じ名前の別のモジュールが必要なときや、もっと覚えやすい名前や簡潔な名前を使いたい場合は、  \n",
    "**別名**を使ってインポートすれば良い。`wr`という別名を使ってみよう。"
   ]
  },
  {
   "cell_type": "markdown",
   "metadata": {},
   "source": [
    "```python\n",
    "import report as wr\n",
    "description = wr.get_decsription()\n",
    "print(\"Today's weather:\", description)\n",
    "```"
   ]
  },
  {
   "cell_type": "markdown",
   "metadata": {},
   "source": [
    "### 5.3.3 必要なものだけをインポートする方法"
   ]
  },
  {
   "cell_type": "markdown",
   "metadata": {},
   "source": [
    "Pythonでは、モジュールから一つ以上の部品だけをインポートすることが出来る。  \n",
    "元の名前にするか別名を使うかは部品ごとに決められている。  \n",
    "まず、reportからget_description()を元の名前でインポートしてみる。"
   ]
  },
  {
   "cell_type": "markdown",
   "metadata": {},
   "source": [
    "```python\n",
    "from report import get_description()\n",
    "description = get_description()\n",
    "print(\"Today's weather:\", description)\n",
    "```"
   ]
  },
  {
   "cell_type": "markdown",
   "metadata": {},
   "source": [
    "次に、`do_it`という名前でインポートする。"
   ]
  },
  {
   "cell_type": "markdown",
   "metadata": {},
   "source": [
    "```python\n",
    "from report import get_description as do_it\n",
    "description = do_it()\n",
    "print(\"Today's weather:\", description)\n",
    "```"
   ]
  },
  {
   "cell_type": "markdown",
   "metadata": {},
   "source": [
    "上記のように、別の名前で同じモジュールをインポートできる。"
   ]
  },
  {
   "cell_type": "markdown",
   "metadata": {},
   "source": [
    "### 5.3.4 モジュールサーチパス"
   ]
  },
  {
   "cell_type": "markdown",
   "metadata": {},
   "source": [
    "Pythonは、インポートするファイルをどこに探しに行くのだろうか？  \n",
    "実は、標準のsysモジュールのpath変数に格納されているディレクトリ名や、ZIPアーカイブ名のリストを使う。  \n",
    "**Note: このリストにはアクセスして書き換えることが出来る。**"
   ]
  },
  {
   "cell_type": "code",
   "execution_count": null,
   "metadata": {
    "collapsed": false,
    "scrolled": true
   },
   "outputs": [],
   "source": [
    "import sys\n",
    "\n",
    "print(sys.path)\n",
    "\n",
    "for place in sys.path:\n",
    "    print(place)"
   ]
  },
  {
   "cell_type": "markdown",
   "metadata": {},
   "source": [
    "上記の、最初の空行(実はある)は、空文字列の''で、カレントディレクトリという意味である。  \n",
    "sys.pathの先頭が''なら、インポート時には、Pythonはまずカレントディレクトリを見る。  \n",
    "例えば、import reportは、report.pyを探す。  \n",
    "使われるのは、最初にマッチしたファイルである。  \n",
    "その為、自分でrandomというモジュールを定義してそれが標準ライブラリよりも前のサーチパスに含まれている場合、  \n",
    "標準ライブラリのrandomにはアクセスできないことになる。"
   ]
  },
  {
   "cell_type": "markdown",
   "metadata": {},
   "source": [
    "## 5.4 パッケージ"
   ]
  },
  {
   "cell_type": "markdown",
   "metadata": {},
   "source": [
    "Pythonアプリケーションをもっと大規模なものにするために、モジュールはパッケージと呼ばれる階層構造に属する事が出来る。  \n",
    "例えば、異なるタイプの天気予報のテキストが欲しいものとする。一つは翌日のもの、もう一つは翌週のもの。  \n",
    "このようなとき、例えばsourcesというディレクトリを作り、その中にdaily.pyとweekly.pyの2つのモジュールを作って、  \n",
    "両方のモジュールにforecastという関数を作る。  \n",
    "- sources/\n",
    "    - daily.py\n",
    "    - weekly.py\n",
    "    \n",
    "dailyバージョンは1個の文字列を返し、weeklyバージョンは7個の文字列のリストを返すとする。  \n",
    "\n",
    "では、メインプログラムと2つのモジュールを見ていく。  \n",
    "enumerate()関数は、リストを分解してforループにリストの個々の要素を供給する。  \n",
    "この時、おまけで個々の要素に番号を追加する。"
   ]
  },
  {
   "cell_type": "markdown",
   "metadata": {},
   "source": [
    "[メインプログラム:ファイル名:boxes/weather.py]\n",
    "```python\n",
    "from sources import daily, weekly\n",
    "\n",
    "print(\"Daily forecast:\", daily.forecast())\n",
    "print(\"Weekly forecast:\")\n",
    "for number, outlook in enumerate(weekly.foreast(), 1):\n",
    "    print(number, outlook)\n",
    "```\n",
    "\n",
    "[モジュール1:ファイル名:boxes/sources/daily.py]\n",
    "```python\n",
    "def forecast():\n",
    "    'ニセの天気予報'\n",
    "    return 'like yesterday'\n",
    "```\n",
    "\n",
    "[モジュール2:ファイル名:boxes/sources/weekly.py]\n",
    "```python\n",
    "def forecast():\n",
    "    \"\"\"ニセの週間天気予報\"\"\"\n",
    "    return ['snow', 'more snow', 'sleet', 'freezing rain', 'rain', 'hail']\n",
    "```"
   ]
  },
  {
   "cell_type": "markdown",
   "metadata": {},
   "source": [
    "sourceディレクトリには、もう一つ`__init__.py`という名前のファイルを作る必要がある。  \n",
    "**中身はからで良いが、Pythonはこの`__init__.py`ファイルがあるディレクトリをパッケージとして扱う。**"
   ]
  },
  {
   "cell_type": "markdown",
   "metadata": {},
   "source": [
    "メインプログラムのweather.pyを実行して、何が起きるのかを見てみる。"
   ]
  },
  {
   "cell_type": "markdown",
   "metadata": {},
   "source": [
    "`# 実際にはファイルを作ってないので、雰囲気だけ下記に書き出す。`\n",
    "```bash\n",
    "$ python weather.py\n",
    "Daily forecast: like yesterday\n",
    "Weekly forecast:\n",
    "1 snow\n",
    "2 more snow\n",
    "3 sleet #霙\n",
    "4 freezing rain #氷晶雨\n",
    "5 rain\n",
    "6 fog #濃霧\n",
    "7 hail #雹\n",
    "```"
   ]
  },
  {
   "cell_type": "markdown",
   "metadata": {},
   "source": [
    "## 5.5 Python標準ライブラリ"
   ]
  },
  {
   "cell_type": "markdown",
   "metadata": {},
   "source": [
    "Pythonの主張の中でも特段目立つのが、「バッテリー同梱」である。  \n",
    "Pythonには、最初から、様々な役立つモジュールを集めた大規模な標準ライブラリがあり、コア言語が膨れ上がるのを防ぐために、別に管理されている。  \n",
    "Pythonコードを書こうとするときには、まず、求めている事を既に実行している標準モジュールを探してみると良い。  \n",
    "Pythonは、下記のようなドキュメント等を提供している。\n",
    "- [モジュールの公式ドキュメント集](http://docs.python.org/3/library)\n",
    "- [標準ライブラリチュートリアル](http://bit.ly/library-tour)\n",
    "\n",
    "また、下記も役立つガイドである。\n",
    "- Doug Hellmannの[今週のPythonモジュール](http://bit.ly/py-motw)\n",
    "- 彼の著書[『The Python Standard Library by Example』(Addison-Wesley Professional)](http://bit.ly/py-libex)\n",
    "\n",
    "この章からは、ウェブ、システム、データベース等々の個別分野を対象とする標準モジュールを多数使っていくこととなる。  \n",
    "この節では、汎用的に使える標準モジュールの一部を取り上げる。"
   ]
  },
  {
   "cell_type": "markdown",
   "metadata": {},
   "source": [
    "### 5.5.1 `setdefault()`と`defaultdict()`による存在しないキーの処理"
   ]
  },
  {
   "cell_type": "markdown",
   "metadata": {},
   "source": [
    "既に説明したように、存在しないキーで辞書にアクセスしようとすると例外が発生する。  \n",
    "辞書の`get()`関数を使って、キーが存在しない場合はデフォルト値を返すようにすれば、例外を避けられる。  \n",
    "さて、`setdefault()`関数は`get()`関数と似ているが、キーが無ければ更に辞書に要素を追加するところが異なる。"
   ]
  },
  {
   "cell_type": "code",
   "execution_count": 2,
   "metadata": {
    "collapsed": false
   },
   "outputs": [
    {
     "name": "stdout",
     "output_type": "stream",
     "text": [
      "{'Hydrogen': 1, 'Helium': 2}\n"
     ]
    }
   ],
   "source": [
    "periodic_table = {'Hydrogen' : 1, 'Helium' : 2}\n",
    "print(periodic_table)"
   ]
  },
  {
   "cell_type": "markdown",
   "metadata": {},
   "source": [
    "キーがまだ辞書になければ、新しい値とともに辞書に追加される。"
   ]
  },
  {
   "cell_type": "code",
   "execution_count": 3,
   "metadata": {
    "collapsed": false
   },
   "outputs": [
    {
     "data": {
      "text/plain": [
       "12"
      ]
     },
     "execution_count": 3,
     "metadata": {},
     "output_type": "execute_result"
    }
   ],
   "source": [
    "carbon = periodic_table.setdefault('Carbon', 12)\n",
    "carbon"
   ]
  },
  {
   "cell_type": "code",
   "execution_count": 4,
   "metadata": {
    "collapsed": false,
    "scrolled": true
   },
   "outputs": [
    {
     "data": {
      "text/plain": [
       "{'Carbon': 12, 'Helium': 2, 'Hydrogen': 1}"
      ]
     },
     "execution_count": 4,
     "metadata": {},
     "output_type": "execute_result"
    }
   ],
   "source": [
    "periodic_table"
   ]
  },
  {
   "cell_type": "markdown",
   "metadata": {},
   "source": [
    "既存のキーに別のデフォルト値を代入しようとしても、もとの値が返され、辞書は一切変更されない。"
   ]
  },
  {
   "cell_type": "code",
   "execution_count": 5,
   "metadata": {
    "collapsed": false
   },
   "outputs": [
    {
     "data": {
      "text/plain": [
       "2"
      ]
     },
     "execution_count": 5,
     "metadata": {},
     "output_type": "execute_result"
    }
   ],
   "source": [
    "helium = periodic_table.setdefault('Helium', 947)\n",
    "helium"
   ]
  },
  {
   "cell_type": "code",
   "execution_count": 6,
   "metadata": {
    "collapsed": false,
    "scrolled": true
   },
   "outputs": [
    {
     "data": {
      "text/plain": [
       "{'Carbon': 12, 'Helium': 2, 'Hydrogen': 1}"
      ]
     },
     "execution_count": 6,
     "metadata": {},
     "output_type": "execute_result"
    }
   ],
   "source": [
    "periodic_table"
   ]
  },
  {
   "cell_type": "markdown",
   "metadata": {},
   "source": [
    "defaultdict()も例外を防ぐという点では似ているが、辞書作成時にあらゆる新しいキーのためにデフォルト値を設定するところが異なる。  \n",
    "引数は**関数**である。  \n",
    "\n",
    "次の例では、int**関数**を渡している。  \n",
    "このintはint()という形で呼び出され、整数の0を返す。"
   ]
  },
  {
   "cell_type": "code",
   "execution_count": 47,
   "metadata": {
    "collapsed": true
   },
   "outputs": [],
   "source": [
    "from collections import defaultdict\n",
    "\n",
    "periodic_table = defaultdict(int)"
   ]
  },
  {
   "cell_type": "markdown",
   "metadata": {},
   "source": [
    "これで、存在しないキーに対する値は整数(`int`)の0になる。"
   ]
  },
  {
   "cell_type": "code",
   "execution_count": 41,
   "metadata": {
    "collapsed": false,
    "scrolled": false
   },
   "outputs": [
    {
     "data": {
      "text/plain": [
       "0"
      ]
     },
     "execution_count": 41,
     "metadata": {},
     "output_type": "execute_result"
    }
   ],
   "source": [
    "periodic_table['Hydrogen'] = 1\n",
    "periodic_table['Lead']"
   ]
  },
  {
   "cell_type": "code",
   "execution_count": 40,
   "metadata": {
    "collapsed": false,
    "scrolled": true
   },
   "outputs": [
    {
     "data": {
      "text/plain": [
       "defaultdict(int, {'Hydrogen': 1, 'Lead': 0})"
      ]
     },
     "execution_count": 40,
     "metadata": {},
     "output_type": "execute_result"
    }
   ],
   "source": [
    "periodic_table"
   ]
  },
  {
   "cell_type": "markdown",
   "metadata": {},
   "source": [
    "defaultdict()に存在しないキーを用いた場合、そのキーが自動で生成される。  \n",
    "そのキーの値は、defaultdict()に渡された引数の方が設定される。次の例では、値が必要になったときにno_idea()が呼び出される。"
   ]
  },
  {
   "cell_type": "code",
   "execution_count": 44,
   "metadata": {
    "collapsed": false
   },
   "outputs": [
    {
     "data": {
      "text/plain": [
       "'Abominable Snowman'"
      ]
     },
     "execution_count": 44,
     "metadata": {},
     "output_type": "execute_result"
    }
   ],
   "source": [
    "from collections import defaultdict\n",
    "\n",
    "def no_idea():\n",
    "    return 'Huh?'\n",
    "\n",
    "bestiary = defaultdict(no_idea)\n",
    "bestiary['A'] = 'Abominable Snowman'\n",
    "bestiary['B'] = 'Basilisk'\n",
    "bestiary['A']"
   ]
  },
  {
   "cell_type": "code",
   "execution_count": 45,
   "metadata": {
    "collapsed": false,
    "scrolled": false
   },
   "outputs": [
    {
     "data": {
      "text/plain": [
       "'Basilisk'"
      ]
     },
     "execution_count": 45,
     "metadata": {},
     "output_type": "execute_result"
    }
   ],
   "source": [
    "bestiary['B']"
   ]
  },
  {
   "cell_type": "code",
   "execution_count": 46,
   "metadata": {
    "collapsed": false,
    "scrolled": false
   },
   "outputs": [
    {
     "data": {
      "text/plain": [
       "'Huh?'"
      ]
     },
     "execution_count": 46,
     "metadata": {},
     "output_type": "execute_result"
    }
   ],
   "source": [
    "bestiary['C']"
   ]
  },
  {
   "cell_type": "markdown",
   "metadata": {},
   "source": [
    "`int()`、`list()`、`dict()`を使えば、これらの型の空の値を返して存在しないキーのデフォルト値にすることができる。  \n",
    "`int()`は0、`list()`は空リスト(`[]`)、`dict()`は空辞書(`{}`)を返す。  \n",
    "デフォルト値引数を省略すると、新しいキーに与えられるデフォルト値はNoneになる。  \n",
    "\n",
    "なお、lambdaを使えば、defaultdict()呼び出しのなかでデフォルト作成関数を定義できる。"
   ]
  },
  {
   "cell_type": "code",
   "execution_count": 43,
   "metadata": {
    "collapsed": false,
    "scrolled": false
   },
   "outputs": [
    {
     "name": "stdout",
     "output_type": "stream",
     "text": [
      "Hah-hah!\n",
      "defaultdict(<function <lambda> at 0x10412d2f0>, {'E': 'Hah-hah!'})\n"
     ]
    }
   ],
   "source": [
    "bestiary = defaultdict(lambda: 'Hah-hah!')\n",
    "print(bestiary['E'])\n",
    "print(bestiary)"
   ]
  },
  {
   "cell_type": "markdown",
   "metadata": {},
   "source": [
    "intは、独自カウンタを作るための手段になり得る。"
   ]
  },
  {
   "cell_type": "code",
   "execution_count": 35,
   "metadata": {
    "collapsed": false
   },
   "outputs": [
    {
     "name": "stdout",
     "output_type": "stream",
     "text": [
      "eggs 1\n",
      "spam 3\n"
     ]
    }
   ],
   "source": [
    "from collections import defaultdict\n",
    "\n",
    "food_counter = defaultdict(int)\n",
    "for food in ['spam', 'spam', 'eggs', 'spam']:\n",
    "    food_counter[food] += 1\n",
    "\n",
    "for food, count in food_counter.items():\n",
    "    print(food, count)"
   ]
  },
  {
   "cell_type": "markdown",
   "metadata": {},
   "source": [
    "__Note: 上記は便利なコードスニペットとして覚えておくと良いかも。__"
   ]
  },
  {
   "cell_type": "markdown",
   "metadata": {
    "collapsed": true
   },
   "source": [
    "飢えの例で、food_counterがdefaultdictではなく、通常の辞書だったら、辞書の要素のfood_counter[food]は初期化されていないため、  \n",
    "これを初めてインクリメントしようとするたびにPythonは例外を発生させてしまう。  \n",
    "次に示すように、余分な作業が必要になっていたはずである。"
   ]
  },
  {
   "cell_type": "code",
   "execution_count": 2,
   "metadata": {
    "collapsed": false
   },
   "outputs": [
    {
     "name": "stdout",
     "output_type": "stream",
     "text": [
      "eggs 1\n",
      "spam 3\n"
     ]
    }
   ],
   "source": [
    "dict_counter = {}\n",
    "for food in ['spam', 'spam', 'eggs', 'spam']:\n",
    "    if not food in dict_counter:\n",
    "        dict_counter[food] = 0\n",
    "    dict_counter[food] += 1\n",
    "    \n",
    "for food, count in dict_counter.items():\n",
    "    print(food,count)"
   ]
  },
  {
   "cell_type": "markdown",
   "metadata": {},
   "source": [
    "### 5.5.2 Counter()による要素数の計算"
   ]
  },
  {
   "cell_type": "markdown",
   "metadata": {},
   "source": [
    "上記ではカウンタが話題になったが、Python標準ライブラリには、飢えの例で行ったことだけではなく、  \n",
    "更に多くの機能を持った関数が含まれている。"
   ]
  },
  {
   "cell_type": "code",
   "execution_count": 3,
   "metadata": {
    "collapsed": false
   },
   "outputs": [
    {
     "data": {
      "text/plain": [
       "Counter({'eggs': 1, 'spam': 3})"
      ]
     },
     "execution_count": 3,
     "metadata": {},
     "output_type": "execute_result"
    }
   ],
   "source": [
    "from collections import Counter\n",
    "breakfast = ['spam', 'spam', 'eggs', 'spam']\n",
    "breakfast_counter = Counter(breakfast)\n",
    "breakfast_counter"
   ]
  },
  {
   "cell_type": "markdown",
   "metadata": {},
   "source": [
    "`most_common()`関数は、すべての要素を降順で返す。引数として整数を指定すると、最上位から数えてその個数分だけを表示する。"
   ]
  },
  {
   "cell_type": "code",
   "execution_count": 4,
   "metadata": {
    "collapsed": false
   },
   "outputs": [
    {
     "data": {
      "text/plain": [
       "[('spam', 3), ('eggs', 1)]"
      ]
     },
     "execution_count": 4,
     "metadata": {},
     "output_type": "execute_result"
    }
   ],
   "source": [
    "breakfast_counter.most_common()"
   ]
  },
  {
   "cell_type": "code",
   "execution_count": 5,
   "metadata": {
    "collapsed": false
   },
   "outputs": [
    {
     "data": {
      "text/plain": [
       "[('spam', 3)]"
      ]
     },
     "execution_count": 5,
     "metadata": {},
     "output_type": "execute_result"
    }
   ],
   "source": [
    "breakfast_counter.most_common(1)"
   ]
  },
  {
   "cell_type": "markdown",
   "metadata": {},
   "source": [
    "カウンタを結合することも出来る。まず、breakfast_counterの内容を確認しておく。"
   ]
  },
  {
   "cell_type": "code",
   "execution_count": 6,
   "metadata": {
    "collapsed": false
   },
   "outputs": [
    {
     "data": {
      "text/plain": [
       "Counter({'eggs': 1, 'spam': 3})"
      ]
     },
     "execution_count": 6,
     "metadata": {},
     "output_type": "execute_result"
    }
   ],
   "source": [
    "breakfast_counter"
   ]
  },
  {
   "cell_type": "markdown",
   "metadata": {},
   "source": [
    "次に、lunchという新しいリストとlunch_counterというカウンタを作る。"
   ]
  },
  {
   "cell_type": "code",
   "execution_count": 7,
   "metadata": {
    "collapsed": false
   },
   "outputs": [
    {
     "data": {
      "text/plain": [
       "Counter({'bacon': 1, 'eggs': 2})"
      ]
     },
     "execution_count": 7,
     "metadata": {},
     "output_type": "execute_result"
    }
   ],
   "source": [
    "lunch = ['eggs', 'eggs', 'bacon']\n",
    "lunch_counter = Counter(lunch)\n",
    "lunch_counter"
   ]
  },
  {
   "cell_type": "markdown",
   "metadata": {},
   "source": [
    "ここで、2つのカウンタを結合する。その方法の1つは、「+」を使った加算だ。"
   ]
  },
  {
   "cell_type": "code",
   "execution_count": 8,
   "metadata": {
    "collapsed": false
   },
   "outputs": [
    {
     "data": {
      "text/plain": [
       "Counter({'bacon': 1, 'eggs': 3, 'spam': 3})"
      ]
     },
     "execution_count": 8,
     "metadata": {},
     "output_type": "execute_result"
    }
   ],
   "source": [
    "breakfast_counter + lunch_counter"
   ]
  },
  {
   "cell_type": "markdown",
   "metadata": {},
   "source": [
    "片方からもう片方を引くには、-を使う。  \n",
    "朝食では食べるが昼食では食べないものは何か。"
   ]
  },
  {
   "cell_type": "code",
   "execution_count": 9,
   "metadata": {
    "collapsed": false
   },
   "outputs": [
    {
     "data": {
      "text/plain": [
       "Counter({'spam': 3})"
      ]
     },
     "execution_count": 9,
     "metadata": {},
     "output_type": "execute_result"
    }
   ],
   "source": [
    "breakfast_counter - lunch_counter"
   ]
  },
  {
   "cell_type": "markdown",
   "metadata": {},
   "source": [
    "また、朝食では食べないが、昼食では食べるものは何か。"
   ]
  },
  {
   "cell_type": "code",
   "execution_count": 10,
   "metadata": {
    "collapsed": false
   },
   "outputs": [
    {
     "data": {
      "text/plain": [
       "Counter({'bacon': 1, 'eggs': 1})"
      ]
     },
     "execution_count": 10,
     "metadata": {},
     "output_type": "execute_result"
    }
   ],
   "source": [
    "lunch_counter - breakfast_counter"
   ]
  },
  {
   "cell_type": "markdown",
   "metadata": {},
   "source": [
    "4章の集合と同様に、積集合演算子の&を使えば、共通要素が得られる。  \n",
    "朝食でも昼食でも食べるものは何だろうか。"
   ]
  },
  {
   "cell_type": "code",
   "execution_count": 13,
   "metadata": {
    "collapsed": false
   },
   "outputs": [
    {
     "data": {
      "text/plain": [
       "Counter({'eggs': 1})"
      ]
     },
     "execution_count": 13,
     "metadata": {},
     "output_type": "execute_result"
    }
   ],
   "source": [
    "breakfast_counter & lunch_counter"
   ]
  },
  {
   "cell_type": "markdown",
   "metadata": {},
   "source": [
    "和集合演算子の|を使えば、全ての要素を得ることが出来る。  \n",
    "朝食か昼食で食べるものは何だろうか。"
   ]
  },
  {
   "cell_type": "code",
   "execution_count": 14,
   "metadata": {
    "collapsed": false
   },
   "outputs": [
    {
     "data": {
      "text/plain": [
       "Counter({'bacon': 1, 'eggs': 2, 'spam': 3})"
      ]
     },
     "execution_count": 14,
     "metadata": {},
     "output_type": "execute_result"
    }
   ],
   "source": [
    "breakfast_counter | lunch_counter"
   ]
  },
  {
   "cell_type": "markdown",
   "metadata": {},
   "source": [
    "### 5.5.3 OrderdDict()によるキー順のソート"
   ]
  },
  {
   "cell_type": "markdown",
   "metadata": {},
   "source": [
    "今まで多くのサンプルコードでは、辞書のキーの順序は予測不能だということを示してきた。  \n",
    "例えば、a, b, cというキーをその順序で追加しても、keys()はc,a,bと返してくることがある。  \n",
    "次に示すのは、1章で既に使ったサンプルである。"
   ]
  },
  {
   "cell_type": "code",
   "execution_count": 15,
   "metadata": {
    "collapsed": false
   },
   "outputs": [
    {
     "name": "stdout",
     "output_type": "stream",
     "text": [
      "Corly\n",
      "Larry\n",
      "Moe\n"
     ]
    }
   ],
   "source": [
    "quotes = {\n",
    "    'Moe' : 'A wise guy, huh?',\n",
    "    'Larry' : 'Ow!',\n",
    "    'Corly' : 'Nyuk nyuk!',\n",
    "}\n",
    "for stooge in quotes:\n",
    "    print(stooge)"
   ]
  },
  {
   "cell_type": "markdown",
   "metadata": {},
   "source": [
    "OrderdDict()は、キーが追加された順序を覚えていて、イテレータから同じ順序でキーを返す。  \n",
    "(key, value)タプルのシーケンスからOrderdDictを作ってみる。"
   ]
  },
  {
   "cell_type": "code",
   "execution_count": 17,
   "metadata": {
    "collapsed": false
   },
   "outputs": [
    {
     "name": "stdout",
     "output_type": "stream",
     "text": [
      "Moe\n",
      "Larry\n",
      "Curly\n"
     ]
    }
   ],
   "source": [
    "from collections import OrderedDict\n",
    "quotes = OrderedDict([\n",
    "        ('Moe', 'A wise guy, huh?'),\n",
    "        ('Larry', 'Ow!'),\n",
    "        ('Curly', 'Nyuk nyuk!'),\n",
    "    ])\n",
    "for stooge in quotes:\n",
    "    print(stooge)"
   ]
  },
  {
   "cell_type": "markdown",
   "metadata": {},
   "source": [
    "### 5.5.4 スタック+キュー=デック"
   ]
  },
  {
   "cell_type": "markdown",
   "metadata": {},
   "source": [
    "deque(デックと発音する)は、両端キューのことで、スタックとキューの両方の機能を持っている。  \n",
    "シーケンスのどちらの端でも要素を追加、削除できるようにしたい時に便利である。  \n",
    "\n",
    "次のサンプルは、単語の両端から中央に向かって文字を一つずつ処理し、単語が回文になっているかどうかをチェックする。  \n",
    "popleft()は、デックから左端の要素を削除して返す。pop()は右端の要素を削除して返す。  \n",
    "これらを組み合わせれば、両端から中央に向かって文字を一つずつ処理できる。  \n",
    "両端の文字が等しければ、中央に到達するまで文字の削除を続けていく。"
   ]
  },
  {
   "cell_type": "code",
   "execution_count": 18,
   "metadata": {
    "collapsed": false
   },
   "outputs": [
    {
     "data": {
      "text/plain": [
       "True"
      ]
     },
     "execution_count": 18,
     "metadata": {},
     "output_type": "execute_result"
    }
   ],
   "source": [
    "def palindrome(word):\n",
    "    from collections import deque\n",
    "    dq = deque(word)\n",
    "    while len(dq) > 1:\n",
    "        if dq.popleft() != dq.pop():\n",
    "            return False\n",
    "    return True\n",
    "\n",
    "palindrome('a')"
   ]
  },
  {
   "cell_type": "code",
   "execution_count": 19,
   "metadata": {
    "collapsed": false
   },
   "outputs": [
    {
     "data": {
      "text/plain": [
       "True"
      ]
     },
     "execution_count": 19,
     "metadata": {},
     "output_type": "execute_result"
    }
   ],
   "source": [
    "palindrome('racecar')"
   ]
  },
  {
   "cell_type": "code",
   "execution_count": 20,
   "metadata": {
    "collapsed": false
   },
   "outputs": [
    {
     "data": {
      "text/plain": [
       "True"
      ]
     },
     "execution_count": 20,
     "metadata": {},
     "output_type": "execute_result"
    }
   ],
   "source": [
    "palindrome('')"
   ]
  },
  {
   "cell_type": "code",
   "execution_count": 21,
   "metadata": {
    "collapsed": false
   },
   "outputs": [
    {
     "data": {
      "text/plain": [
       "True"
      ]
     },
     "execution_count": 21,
     "metadata": {},
     "output_type": "execute_result"
    }
   ],
   "source": [
    "palindrome('radar')"
   ]
  },
  {
   "cell_type": "code",
   "execution_count": 22,
   "metadata": {
    "collapsed": false
   },
   "outputs": [
    {
     "data": {
      "text/plain": [
       "False"
      ]
     },
     "execution_count": 22,
     "metadata": {},
     "output_type": "execute_result"
    }
   ],
   "source": [
    "palindrome('halibut')"
   ]
  },
  {
   "cell_type": "markdown",
   "metadata": {},
   "source": [
    "※上記のコードはデックの使い方の単純な例として使ったまでであり、高速な回文チェッカーがほんとうに必要であれば、  \n",
    "逆順の文字列と比較したほうが遥かに簡単である。  \n",
    "Pythonは、文字列で使えるreverse()関数を持っていないが、次のようにスライスを使えば逆順の文字列を作れる。"
   ]
  },
  {
   "cell_type": "code",
   "execution_count": 23,
   "metadata": {
    "collapsed": false
   },
   "outputs": [
    {
     "data": {
      "text/plain": [
       "True"
      ]
     },
     "execution_count": 23,
     "metadata": {},
     "output_type": "execute_result"
    }
   ],
   "source": [
    "def another_palindrome(word):\n",
    "    return word == word[::-1]\n",
    "\n",
    "another_palindrome('radar')"
   ]
  },
  {
   "cell_type": "code",
   "execution_count": 24,
   "metadata": {
    "collapsed": false
   },
   "outputs": [
    {
     "data": {
      "text/plain": [
       "False"
      ]
     },
     "execution_count": 24,
     "metadata": {},
     "output_type": "execute_result"
    }
   ],
   "source": [
    "another_palindrome('halibut')"
   ]
  },
  {
   "cell_type": "markdown",
   "metadata": {},
   "source": [
    "### 5.5.5 itertoolsによるコード構造の反復処理"
   ]
  },
  {
   "cell_type": "markdown",
   "metadata": {},
   "source": [
    "[itertools](http://bit.ly/py-itertools)には、特別な目的を持ついてラータ関数が含まれている。  \n",
    "これらは、for ... in ループ内で呼び出されると、一度に1個の要素を返し、呼び出しの間も自分の状態を覚えている。  \n",
    "\n",
    "chain()は、引数全体が一つのイテラブルであるかのように扱い、そのなかの要素を反復処理する。"
   ]
  },
  {
   "cell_type": "code",
   "execution_count": 1,
   "metadata": {
    "collapsed": true
   },
   "outputs": [],
   "source": [
    "#import itertools\n",
    "#for item in itertools.chain([1, 2], ['a', 'b']):\n",
    "#    print(item)"
   ]
  },
  {
   "cell_type": "markdown",
   "metadata": {},
   "source": [
    "↑上記は無限ループなので実行しない。"
   ]
  },
  {
   "cell_type": "markdown",
   "metadata": {},
   "source": [
    "cycle()は無限反復子で、引数から循環t系に要素を返す。"
   ]
  },
  {
   "cell_type": "code",
   "execution_count": 2,
   "metadata": {
    "collapsed": true
   },
   "outputs": [],
   "source": [
    "# import itertools\n",
    "# for item in itertools.cycle([1, 2]):\n",
    "#    print(item)"
   ]
  },
  {
   "cell_type": "markdown",
   "metadata": {},
   "source": [
    "↑上記も永遠に続く。これを止めるにはCtrl-Cを押す。"
   ]
  },
  {
   "cell_type": "markdown",
   "metadata": {},
   "source": [
    "accumulate()は、要素を一つにまとめた値を計算する。  \n",
    "デフォルトでは和を計算する。  \n",
    "\n",
    "accumulate()は、第2引数として関数を受け付け、この引数が加算の代わりに使われる。  \n",
    "この関数は、2個の引数を受付、1個の結果を返すものでなければならない。"
   ]
  },
  {
   "cell_type": "markdown",
   "metadata": {},
   "source": [
    "- 和を計算する"
   ]
  },
  {
   "cell_type": "code",
   "execution_count": 3,
   "metadata": {
    "collapsed": false
   },
   "outputs": [
    {
     "name": "stdout",
     "output_type": "stream",
     "text": [
      "1\n",
      "3\n",
      "6\n",
      "10\n"
     ]
    }
   ],
   "source": [
    "import itertools\n",
    "for item in itertools.accumulate([1, 2, 3, 4]):\n",
    "    print(item)"
   ]
  },
  {
   "cell_type": "markdown",
   "metadata": {},
   "source": [
    "- 総乗を計算する"
   ]
  },
  {
   "cell_type": "code",
   "execution_count": 5,
   "metadata": {
    "collapsed": false
   },
   "outputs": [
    {
     "name": "stdout",
     "output_type": "stream",
     "text": [
      "1\n",
      "2\n",
      "6\n",
      "24\n"
     ]
    }
   ],
   "source": [
    "import itertools\n",
    "def multiply(a, b):\n",
    "    return a * b\n",
    "\n",
    "for item in itertools.accumulate([1, 2, 3, 4], multiply):\n",
    "    print(item)"
   ]
  },
  {
   "cell_type": "markdown",
   "metadata": {},
   "source": [
    "itertoolsモジュールは、これら以外にも多くの関数を定義している。  \n",
    "特に、順列、組み合わせの関数は、必要なときには時間の節約になる。"
   ]
  },
  {
   "cell_type": "markdown",
   "metadata": {},
   "source": [
    "### 5.5.6 pprint()によるきれいな表示"
   ]
  },
  {
   "cell_type": "markdown",
   "metadata": {},
   "source": [
    "本書のサンプルは、全てprint()を使って表示してきた(或いは、対話型インタープリタで単に変数名を入力して表示した)。  \n",
    "しかし、ときどき結果は見栄えの悪いものになってしまった。  \n",
    "pprintの様に綺麗に表示してくれる関数を使ってみる。"
   ]
  },
  {
   "cell_type": "code",
   "execution_count": 10,
   "metadata": {
    "collapsed": false,
    "scrolled": true
   },
   "outputs": [
    {
     "name": "stdout",
     "output_type": "stream",
     "text": [
      "pprint===========================\n",
      "OrderedDict([('Moe', 'A wise guy, huh?'),\n",
      "             ('Larry', 'Ow!'),\n",
      "             ('Curly', 'Nyuk nyuk!')])\n",
      "print============================\n",
      "OrderedDict([('Moe', 'A wise guy, huh?'), ('Larry', 'Ow!'), ('Curly', 'Nyuk nyuk!')])\n"
     ]
    }
   ],
   "source": [
    "from collections import OrderedDict\n",
    "from pprint import pprint\n",
    "quotes = OrderedDict([\n",
    "        ('Moe', 'A wise guy, huh?'),\n",
    "        ('Larry', 'Ow!'),\n",
    "        ('Curly', 'Nyuk nyuk!'),\n",
    "    ])\n",
    "print('pprint===========================')\n",
    "pprint(quotes)\n",
    "print('print============================')\n",
    "print(quotes)"
   ]
  },
  {
   "cell_type": "markdown",
   "metadata": {},
   "source": [
    "## 5.6 他のPythonコードの入手方法"
   ]
  },
  {
   "cell_type": "markdown",
   "metadata": {},
   "source": [
    "標準ライブラリには必要な処理をしてくれる関数がなかったり、微妙に動作が要求とは異なる関数しか無かったりする。  \n",
    "しかし、標準ライブラリ以外にも、オープンソースのサードパーティーPythonソフトウェアの世界がある。  \n",
    "優れたリソースとしては、次のものがある。"
   ]
  },
  {
   "cell_type": "markdown",
   "metadata": {},
   "source": [
    "- [PyPI](http://pypi.python.org)\n",
    "- [github](https://github.com/Python)\n",
    "- [readthedocs](https://readthedocs.org/)"
   ]
  },
  {
   "cell_type": "markdown",
   "metadata": {},
   "source": [
    "また、[activestate](http://code.activestate.com/recipes/langs/python/)には、比較的小さなコードサンプルが多数揃っている。  \n",
    "本書のほぼ全てのPythonコードは、コンピュータに標準でインストールされているPythonシステムの内容を使っている。  \n",
    "そのなかには、全ての組み込みライブラリと標準ライブラリが含まれている。  \n",
    "しかし、外部パッケージも使っているところがある。  \n",
    "\n",
    "1章では、requestsを使ったが、9.1.3節ではその詳細を説明する。また、付録Dでは、サードパーティーPythonソフトウェアのインストール方法、その他の開発上必要な詳細を示す。"
   ]
  },
  {
   "cell_type": "markdown",
   "metadata": {},
   "source": [
    "----"
   ]
  },
  {
   "cell_type": "markdown",
   "metadata": {},
   "source": [
    "## 5.7 復習課題"
   ]
  },
  {
   "cell_type": "markdown",
   "metadata": {},
   "source": [
    "5-1. zoo.pyというファイルを作り、その中に'Open 9-5 daily'という文字列を表示するhours()という関数を定義しよう。  \n",
    "次に、対話型インタープリタでzooモジュールをインポートし、そのhours()関数を呼び出そう。"
   ]
  },
  {
   "cell_type": "code",
   "execution_count": 6,
   "metadata": {
    "collapsed": false
   },
   "outputs": [
    {
     "name": "stdout",
     "output_type": "stream",
     "text": [
      "Open 9-5 daily\n"
     ]
    }
   ],
   "source": [
    "def test():\n",
    "    import zoo\n",
    "    zoo.hours()\n",
    "\n",
    "test()"
   ]
  },
  {
   "cell_type": "code",
   "execution_count": 1,
   "metadata": {
    "collapsed": false
   },
   "outputs": [
    {
     "name": "stdout",
     "output_type": "stream",
     "text": [
      "Open 9-5 daily\n"
     ]
    }
   ],
   "source": [
    "# おまけ\n",
    "def test():\n",
    "    from zoo import hours\n",
    "    hours()\n",
    "    \n",
    "test()"
   ]
  },
  {
   "cell_type": "code",
   "execution_count": null,
   "metadata": {
    "collapsed": true
   },
   "outputs": [],
   "source": []
  }
 ],
 "metadata": {
  "kernelspec": {
   "display_name": "Python 3",
   "language": "python",
   "name": "python3"
  },
  "language_info": {
   "codemirror_mode": {
    "name": "ipython",
    "version": 3
   },
   "file_extension": ".py",
   "mimetype": "text/x-python",
   "name": "python",
   "nbconvert_exporter": "python",
   "pygments_lexer": "ipython3",
   "version": "3.5.0"
  }
 },
 "nbformat": 4,
 "nbformat_minor": 0
}
